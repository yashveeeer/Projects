{
  "cells": [
    {
      "cell_type": "markdown",
      "metadata": {
        "id": "view-in-github",
        "colab_type": "text"
      },
      "source": [
        "<a href=\"https://colab.research.google.com/github/yashveeeer/Projects/blob/main/Data_Extraction_CKA.ipynb\" target=\"_parent\"><img src=\"https://colab.research.google.com/assets/colab-badge.svg\" alt=\"Open In Colab\"/></a>"
      ]
    },
    {
      "cell_type": "code",
      "execution_count": null,
      "metadata": {
        "id": "qe5_38z_2DX8",
        "colab": {
          "base_uri": "https://localhost:8080/"
        },
        "outputId": "93256616-7f1c-412a-99a6-c80290737d2a"
      },
      "outputs": [
        {
          "output_type": "stream",
          "name": "stdout",
          "text": [
            "Looking in indexes: https://pypi.org/simple, https://us-python.pkg.dev/colab-wheels/public/simple/\n",
            "Requirement already satisfied: pyforest in /usr/local/lib/python3.10/dist-packages (1.1.0)\n"
          ]
        }
      ],
      "source": [
        "!pip install pyforest"
      ]
    },
    {
      "cell_type": "code",
      "execution_count": null,
      "metadata": {
        "id": "mSdb4kX61SGl"
      },
      "outputs": [],
      "source": [
        "import pyforest "
      ]
    },
    {
      "cell_type": "code",
      "execution_count": null,
      "metadata": {
        "colab": {
          "base_uri": "https://localhost:8080/"
        },
        "id": "MQzqNrLk17qI",
        "outputId": "338d66a2-d514-4935-8236-edbed60205b1"
      },
      "outputs": [
        {
          "output_type": "execute_result",
          "data": {
            "text/plain": [
              "['from sklearn.model_selection import train_test_split',\n",
              " 'import matplotlib.pyplot as plt',\n",
              " 'from pathlib import Path',\n",
              " 'import tensorflow as tf',\n",
              " 'import datetime as dt',\n",
              " 'import torch',\n",
              " 'from sklearn.model_selection import cross_val_score',\n",
              " 'from sklearn.feature_extraction.text import CountVectorizer',\n",
              " 'from xlrd import open_workbook',\n",
              " 'import bokeh',\n",
              " 'from sklearn.cluster import KMeans',\n",
              " 'from sklearn.linear_model import RidgeCV',\n",
              " 'from sklearn.linear_model import ElasticNet',\n",
              " 'from PIL import Image',\n",
              " 'import plotly.express as px',\n",
              " 'from sklearn.impute import SimpleImputer',\n",
              " 'from sklearn.preprocessing import RobustScaler',\n",
              " 'import spacy',\n",
              " 'from sklearn.decomposition import PCA',\n",
              " 'import skimage',\n",
              " 'from sklearn.manifold import TSNE',\n",
              " 'import statsmodels.api as sm',\n",
              " 'import dash',\n",
              " 'import numpy as np',\n",
              " 'import xgboost as xgb',\n",
              " 'import sys',\n",
              " 'from statsmodels.tsa.arima_model import ARIMA',\n",
              " 'import pandas as pd',\n",
              " 'from sklearn.linear_model import Lasso',\n",
              " 'from sklearn import metrics',\n",
              " 'from sklearn.preprocessing import LabelEncoder',\n",
              " 'from sklearn.linear_model import ElasticNetCV',\n",
              " 'from sklearn.preprocessing import OneHotEncoder',\n",
              " 'from sklearn.preprocessing import StandardScaler',\n",
              " 'import re',\n",
              " 'from sklearn.preprocessing import PolynomialFeatures',\n",
              " 'from sklearn.model_selection import RandomizedSearchCV',\n",
              " 'import cv2',\n",
              " 'from openpyxl import load_workbook',\n",
              " 'import textblob',\n",
              " 'from dask import dataframe as dd',\n",
              " 'import fbprophet',\n",
              " 'from sklearn.linear_model import LinearRegression',\n",
              " 'import nltk',\n",
              " 'from sklearn.ensemble import RandomForestClassifier',\n",
              " 'import sklearn',\n",
              " 'from scipy import signal as sg',\n",
              " 'import seaborn as sns',\n",
              " 'import awswrangler as wr',\n",
              " 'from sklearn.linear_model import LogisticRegression',\n",
              " 'import fastai',\n",
              " 'import plotly as py',\n",
              " 'import imutils',\n",
              " 'import statistics',\n",
              " 'from sklearn.preprocessing import MinMaxScaler',\n",
              " 'from sklearn.model_selection import StratifiedKFold',\n",
              " 'import altair as alt',\n",
              " 'from sklearn.model_selection import GridSearchCV',\n",
              " 'from fbprophet import Prophet',\n",
              " 'from pyspark import SparkContext',\n",
              " 'import keras',\n",
              " 'import pydot',\n",
              " 'import tqdm',\n",
              " 'from sklearn.model_selection import KFold',\n",
              " 'from sklearn.ensemble import GradientBoostingRegressor',\n",
              " 'import plotly.graph_objs as go',\n",
              " 'from scipy import stats',\n",
              " 'from sklearn.ensemble import GradientBoostingClassifier',\n",
              " 'import pickle',\n",
              " 'import lightgbm as lgb',\n",
              " 'import os',\n",
              " 'import matplotlib as mpl',\n",
              " 'from sklearn import svm',\n",
              " 'from sklearn.linear_model import Ridge',\n",
              " 'import gensim',\n",
              " 'from sklearn.ensemble import RandomForestRegressor',\n",
              " 'import glob',\n",
              " 'from sklearn.linear_model import LassoCV',\n",
              " 'from sklearn.feature_extraction.text import TfidfVectorizer']"
            ]
          },
          "metadata": {},
          "execution_count": 18
        }
      ],
      "source": [
        "lazy_imports()"
      ]
    },
    {
      "cell_type": "code",
      "execution_count": null,
      "metadata": {
        "colab": {
          "base_uri": "https://localhost:8080/",
          "height": 635
        },
        "id": "R8N1ifrDY2om",
        "outputId": "80e11401-59b6-423a-b120-8f73c75963af"
      },
      "outputs": [
        {
          "name": "stdout",
          "output_type": "stream",
          "text": [
            "Looking in indexes: https://pypi.org/simple, https://us-python.pkg.dev/colab-wheels/public/simple/\n",
            "Requirement already satisfied: selenium in /usr/local/lib/python3.10/dist-packages (4.9.1)\n",
            "Requirement already satisfied: urllib3[socks]<3,>=1.26 in /usr/local/lib/python3.10/dist-packages (from selenium) (1.26.15)\n",
            "Requirement already satisfied: trio~=0.17 in /usr/local/lib/python3.10/dist-packages (from selenium) (0.22.0)\n",
            "Requirement already satisfied: trio-websocket~=0.9 in /usr/local/lib/python3.10/dist-packages (from selenium) (0.10.2)\n",
            "Requirement already satisfied: certifi>=2021.10.8 in /usr/local/lib/python3.10/dist-packages (from selenium) (2022.12.7)\n",
            "Requirement already satisfied: attrs>=19.2.0 in /usr/local/lib/python3.10/dist-packages (from trio~=0.17->selenium) (23.1.0)\n",
            "Requirement already satisfied: sortedcontainers in /usr/local/lib/python3.10/dist-packages (from trio~=0.17->selenium) (2.4.0)\n",
            "Requirement already satisfied: async-generator>=1.9 in /usr/local/lib/python3.10/dist-packages (from trio~=0.17->selenium) (1.10)\n",
            "Requirement already satisfied: idna in /usr/local/lib/python3.10/dist-packages (from trio~=0.17->selenium) (3.4)\n",
            "Requirement already satisfied: outcome in /usr/local/lib/python3.10/dist-packages (from trio~=0.17->selenium) (1.2.0)\n",
            "Requirement already satisfied: sniffio in /usr/local/lib/python3.10/dist-packages (from trio~=0.17->selenium) (1.3.0)\n",
            "Requirement already satisfied: exceptiongroup>=1.0.0rc9 in /usr/local/lib/python3.10/dist-packages (from trio~=0.17->selenium) (1.1.1)\n",
            "Requirement already satisfied: wsproto>=0.14 in /usr/local/lib/python3.10/dist-packages (from trio-websocket~=0.9->selenium) (1.2.0)\n",
            "Requirement already satisfied: PySocks!=1.5.7,<2.0,>=1.5.6 in /usr/local/lib/python3.10/dist-packages (from urllib3[socks]<3,>=1.26->selenium) (1.7.1)\n",
            "Requirement already satisfied: h11<1,>=0.9.0 in /usr/local/lib/python3.10/dist-packages (from wsproto>=0.14->trio-websocket~=0.9->selenium) (0.14.0)\n",
            "Looking in indexes: https://pypi.org/simple, https://us-python.pkg.dev/colab-wheels/public/simple/\n",
            "Collecting msedge-selenium-tools\n",
            "  Downloading msedge_selenium_tools-3.141.4-py3-none-any.whl (15 kB)\n",
            "Collecting selenium==3.141 (from msedge-selenium-tools)\n",
            "  Downloading selenium-3.141.0-py2.py3-none-any.whl (904 kB)\n",
            "\u001b[2K     \u001b[90m━━━━━━━━━━━━━━━━━━━━━━━━━━━━━━━━━━━━━━\u001b[0m \u001b[32m904.6/904.6 kB\u001b[0m \u001b[31m18.0 MB/s\u001b[0m eta \u001b[36m0:00:00\u001b[0m\n",
            "\u001b[?25hRequirement already satisfied: urllib3 in /usr/local/lib/python3.10/dist-packages (from selenium==3.141->msedge-selenium-tools) (1.26.15)\n",
            "Installing collected packages: selenium, msedge-selenium-tools\n",
            "  Attempting uninstall: selenium\n",
            "    Found existing installation: selenium 4.9.1\n",
            "    Uninstalling selenium-4.9.1:\n",
            "      Successfully uninstalled selenium-4.9.1\n",
            "Successfully installed msedge-selenium-tools-3.141.4 selenium-3.141.0\n"
          ]
        },
        {
          "data": {
            "application/vnd.colab-display-data+json": {
              "pip_warning": {
                "packages": [
                  "selenium"
                ]
              }
            }
          },
          "metadata": {},
          "output_type": "display_data"
        }
      ],
      "source": [
        "!pip install selenium\n",
        "!pip install msedge-selenium-tools"
      ]
    },
    {
      "cell_type": "code",
      "source": [
        "import sys\n",
        "sys.path.insert(0,'/content/chromedriver.exe')"
      ],
      "metadata": {
        "id": "JTvaQdirtiue"
      },
      "execution_count": null,
      "outputs": []
    },
    {
      "cell_type": "code",
      "source": [
        "from selenium.webdriver import Chrome"
      ],
      "metadata": {
        "id": "cj5mwujlrof2"
      },
      "execution_count": null,
      "outputs": []
    },
    {
      "cell_type": "code",
      "source": [
        "from google.colab import files\n",
        "uploaded = files.upload()"
      ],
      "metadata": {
        "colab": {
          "base_uri": "https://localhost:8080/",
          "height": 73
        },
        "id": "EoxvBMpkyTl7",
        "outputId": "93456e6b-98e8-401f-c7e4-dd3d6575bb27"
      },
      "execution_count": null,
      "outputs": [
        {
          "output_type": "display_data",
          "data": {
            "text/plain": [
              "<IPython.core.display.HTML object>"
            ],
            "text/html": [
              "\n",
              "     <input type=\"file\" id=\"files-00012d16-b685-4818-b171-d57630e6869a\" name=\"files[]\" multiple disabled\n",
              "        style=\"border:none\" />\n",
              "     <output id=\"result-00012d16-b685-4818-b171-d57630e6869a\">\n",
              "      Upload widget is only available when the cell has been executed in the\n",
              "      current browser session. Please rerun this cell to enable.\n",
              "      </output>\n",
              "      <script>// Copyright 2017 Google LLC\n",
              "//\n",
              "// Licensed under the Apache License, Version 2.0 (the \"License\");\n",
              "// you may not use this file except in compliance with the License.\n",
              "// You may obtain a copy of the License at\n",
              "//\n",
              "//      http://www.apache.org/licenses/LICENSE-2.0\n",
              "//\n",
              "// Unless required by applicable law or agreed to in writing, software\n",
              "// distributed under the License is distributed on an \"AS IS\" BASIS,\n",
              "// WITHOUT WARRANTIES OR CONDITIONS OF ANY KIND, either express or implied.\n",
              "// See the License for the specific language governing permissions and\n",
              "// limitations under the License.\n",
              "\n",
              "/**\n",
              " * @fileoverview Helpers for google.colab Python module.\n",
              " */\n",
              "(function(scope) {\n",
              "function span(text, styleAttributes = {}) {\n",
              "  const element = document.createElement('span');\n",
              "  element.textContent = text;\n",
              "  for (const key of Object.keys(styleAttributes)) {\n",
              "    element.style[key] = styleAttributes[key];\n",
              "  }\n",
              "  return element;\n",
              "}\n",
              "\n",
              "// Max number of bytes which will be uploaded at a time.\n",
              "const MAX_PAYLOAD_SIZE = 100 * 1024;\n",
              "\n",
              "function _uploadFiles(inputId, outputId) {\n",
              "  const steps = uploadFilesStep(inputId, outputId);\n",
              "  const outputElement = document.getElementById(outputId);\n",
              "  // Cache steps on the outputElement to make it available for the next call\n",
              "  // to uploadFilesContinue from Python.\n",
              "  outputElement.steps = steps;\n",
              "\n",
              "  return _uploadFilesContinue(outputId);\n",
              "}\n",
              "\n",
              "// This is roughly an async generator (not supported in the browser yet),\n",
              "// where there are multiple asynchronous steps and the Python side is going\n",
              "// to poll for completion of each step.\n",
              "// This uses a Promise to block the python side on completion of each step,\n",
              "// then passes the result of the previous step as the input to the next step.\n",
              "function _uploadFilesContinue(outputId) {\n",
              "  const outputElement = document.getElementById(outputId);\n",
              "  const steps = outputElement.steps;\n",
              "\n",
              "  const next = steps.next(outputElement.lastPromiseValue);\n",
              "  return Promise.resolve(next.value.promise).then((value) => {\n",
              "    // Cache the last promise value to make it available to the next\n",
              "    // step of the generator.\n",
              "    outputElement.lastPromiseValue = value;\n",
              "    return next.value.response;\n",
              "  });\n",
              "}\n",
              "\n",
              "/**\n",
              " * Generator function which is called between each async step of the upload\n",
              " * process.\n",
              " * @param {string} inputId Element ID of the input file picker element.\n",
              " * @param {string} outputId Element ID of the output display.\n",
              " * @return {!Iterable<!Object>} Iterable of next steps.\n",
              " */\n",
              "function* uploadFilesStep(inputId, outputId) {\n",
              "  const inputElement = document.getElementById(inputId);\n",
              "  inputElement.disabled = false;\n",
              "\n",
              "  const outputElement = document.getElementById(outputId);\n",
              "  outputElement.innerHTML = '';\n",
              "\n",
              "  const pickedPromise = new Promise((resolve) => {\n",
              "    inputElement.addEventListener('change', (e) => {\n",
              "      resolve(e.target.files);\n",
              "    });\n",
              "  });\n",
              "\n",
              "  const cancel = document.createElement('button');\n",
              "  inputElement.parentElement.appendChild(cancel);\n",
              "  cancel.textContent = 'Cancel upload';\n",
              "  const cancelPromise = new Promise((resolve) => {\n",
              "    cancel.onclick = () => {\n",
              "      resolve(null);\n",
              "    };\n",
              "  });\n",
              "\n",
              "  // Wait for the user to pick the files.\n",
              "  const files = yield {\n",
              "    promise: Promise.race([pickedPromise, cancelPromise]),\n",
              "    response: {\n",
              "      action: 'starting',\n",
              "    }\n",
              "  };\n",
              "\n",
              "  cancel.remove();\n",
              "\n",
              "  // Disable the input element since further picks are not allowed.\n",
              "  inputElement.disabled = true;\n",
              "\n",
              "  if (!files) {\n",
              "    return {\n",
              "      response: {\n",
              "        action: 'complete',\n",
              "      }\n",
              "    };\n",
              "  }\n",
              "\n",
              "  for (const file of files) {\n",
              "    const li = document.createElement('li');\n",
              "    li.append(span(file.name, {fontWeight: 'bold'}));\n",
              "    li.append(span(\n",
              "        `(${file.type || 'n/a'}) - ${file.size} bytes, ` +\n",
              "        `last modified: ${\n",
              "            file.lastModifiedDate ? file.lastModifiedDate.toLocaleDateString() :\n",
              "                                    'n/a'} - `));\n",
              "    const percent = span('0% done');\n",
              "    li.appendChild(percent);\n",
              "\n",
              "    outputElement.appendChild(li);\n",
              "\n",
              "    const fileDataPromise = new Promise((resolve) => {\n",
              "      const reader = new FileReader();\n",
              "      reader.onload = (e) => {\n",
              "        resolve(e.target.result);\n",
              "      };\n",
              "      reader.readAsArrayBuffer(file);\n",
              "    });\n",
              "    // Wait for the data to be ready.\n",
              "    let fileData = yield {\n",
              "      promise: fileDataPromise,\n",
              "      response: {\n",
              "        action: 'continue',\n",
              "      }\n",
              "    };\n",
              "\n",
              "    // Use a chunked sending to avoid message size limits. See b/62115660.\n",
              "    let position = 0;\n",
              "    do {\n",
              "      const length = Math.min(fileData.byteLength - position, MAX_PAYLOAD_SIZE);\n",
              "      const chunk = new Uint8Array(fileData, position, length);\n",
              "      position += length;\n",
              "\n",
              "      const base64 = btoa(String.fromCharCode.apply(null, chunk));\n",
              "      yield {\n",
              "        response: {\n",
              "          action: 'append',\n",
              "          file: file.name,\n",
              "          data: base64,\n",
              "        },\n",
              "      };\n",
              "\n",
              "      let percentDone = fileData.byteLength === 0 ?\n",
              "          100 :\n",
              "          Math.round((position / fileData.byteLength) * 100);\n",
              "      percent.textContent = `${percentDone}% done`;\n",
              "\n",
              "    } while (position < fileData.byteLength);\n",
              "  }\n",
              "\n",
              "  // All done.\n",
              "  yield {\n",
              "    response: {\n",
              "      action: 'complete',\n",
              "    }\n",
              "  };\n",
              "}\n",
              "\n",
              "scope.google = scope.google || {};\n",
              "scope.google.colab = scope.google.colab || {};\n",
              "scope.google.colab._files = {\n",
              "  _uploadFiles,\n",
              "  _uploadFilesContinue,\n",
              "};\n",
              "})(self);\n",
              "</script> "
            ]
          },
          "metadata": {}
        },
        {
          "output_type": "stream",
          "name": "stdout",
          "text": [
            "Saving chromedriver.exe to chromedriver (1).exe\n"
          ]
        }
      ]
    },
    {
      "cell_type": "code",
      "source": [
        "import requests\n",
        "\n",
        "# Define the URL of the raw file on GitHub\n",
        "url = \"https://raw.githubusercontent.com/HindustanTimesLabs/nfhs-data/master/nfhs_district-wise.csv\"\n",
        "\n",
        "# Send a GET request to the URL\n",
        "response = requests.get(url)\n",
        "\n",
        "# Check if the request was successful (status code 200)\n",
        "if response.status_code == 200:\n",
        "    # Extract the content from the response\n",
        "    content = response.text\n",
        "    \n",
        "    # Specify the file path to save the output\n",
        "    file_path = \"/content/Output.txt\"\n",
        "    \n",
        "    # Write the content to the file\n",
        "    with open(file_path, \"w\") as file:\n",
        "        file.write(content)\n",
        "    \n",
        "    print(\"Output saved to\", file_path)\n",
        "else:\n",
        "    print(\"Error occurred. Status code:\", response.status_code)\n"
      ],
      "metadata": {
        "colab": {
          "base_uri": "https://localhost:8080/"
        },
        "id": "YZvASKvZwZrx",
        "outputId": "703a3e9f-09fb-43de-d5c3-9a5a852afe2c"
      },
      "execution_count": null,
      "outputs": [
        {
          "output_type": "stream",
          "name": "stdout",
          "text": [
            "Output saved to /content/Output.txt\n"
          ]
        }
      ]
    },
    {
      "cell_type": "code",
      "source": [
        "#VAHAN Website Data Extraction\n",
        "from selenium import webdriver\n",
        "from selenium.webdriver.support.select import Select\n",
        "from selenium.webdriver.common.by import By\n",
        "from selenium.webdriver.common.keys import Keys\n",
        "from selenium.webdriver import Chrome\n",
        "from selenium.webdriver.common.action_chains import ActionChains\n",
        "\n",
        "driver = Chrome(executable_path=r\"C:\\Users\\yashveer\\Downloads\\chromedriver_win32 (1)\\chromedriver.exe\")\n",
        "driver.get(\"https://vahan.parivahan.gov.in/vahan4dashboard/\")\n",
        "button = driver.find_element(By.XPATH,'//*[@id=\"j_idt44_input\"]/option[20]')\n",
        "driver.implicitly_wait(10)\n",
        "ActionChains(driver).move_to_element(button).click(button).perform()\n",
        "driver.find_element(By.XPATH,'//*[@id=\"selectedRto_label\"]').click()\n",
        "list=[]\n",
        "for i in range(1,54):\n",
        "    a=driver.find_element(By.XPATH,'//*[@id=\"selectedRto_'+str(i)+'\"]')\n",
        "    list.append(a.text)\n",
        "print(a)"
      ],
      "metadata": {
        "id": "5i7tjh6NC1BU"
      },
      "execution_count": null,
      "outputs": []
    }
  ],
  "metadata": {
    "colab": {
      "provenance": [],
      "authorship_tag": "ABX9TyMuYViqN7zai7avm7lzK4+a",
      "include_colab_link": true
    },
    "kernelspec": {
      "display_name": "Python 3",
      "name": "python3"
    },
    "language_info": {
      "name": "python"
    }
  },
  "nbformat": 4,
  "nbformat_minor": 0
}