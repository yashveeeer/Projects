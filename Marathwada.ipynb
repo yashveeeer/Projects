{
  "nbformat": 4,
  "nbformat_minor": 0,
  "metadata": {
    "colab": {
      "provenance": [],
      "authorship_tag": "ABX9TyNO9IaaGtj8vcT1BU+JPlpd",
      "include_colab_link": true
    },
    "kernelspec": {
      "name": "python3",
      "display_name": "Python 3"
    },
    "language_info": {
      "name": "python"
    }
  },
  "cells": [
    {
      "cell_type": "markdown",
      "metadata": {
        "id": "view-in-github",
        "colab_type": "text"
      },
      "source": [
        "<a href=\"https://colab.research.google.com/github/yashveeeer/Projects/blob/main/Marathwada.ipynb\" target=\"_parent\"><img src=\"https://colab.research.google.com/assets/colab-badge.svg\" alt=\"Open In Colab\"/></a>"
      ]
    },
    {
      "cell_type": "code",
      "execution_count": 35,
      "metadata": {
        "id": "sCA2vt6-6NIW"
      },
      "outputs": [],
      "source": [
        "import pandas as pd\n",
        "import scipy.stats as stats"
      ]
    },
    {
      "cell_type": "code",
      "source": [
        "H0 = \"NFHS-5 Shows Marathwada Region and other regions are observing similar level of Antenatal care visits\"\n",
        "H1 = \"NFHS-5 Shows lower level of Antenatal care visits\""
      ],
      "metadata": {
        "id": "OdR9ScIa6fMB"
      },
      "execution_count": 36,
      "outputs": []
    },
    {
      "cell_type": "code",
      "source": [
        "# Data for the Marathwada region for at least 4 times Antenatal care visits NFHS-5\n",
        "marathwada_data = [76.6, 56.8, 66.6,58.4, 72.6, 53.5, 89.2, 47.4]  \n",
        "\n",
        "#Other regions \n",
        "other_regions_data = [76.6,\n",
        "76.3,\n",
        "71.7,\n",
        "79,\n",
        "72.7,\n",
        "68.5,\n",
        "63.2,\n",
        "86.8,\n",
        "66.2,\n",
        "58.4,\n",
        "81.8,\n",
        "87.1,\n",
        "71.4,\n",
        "58.2,\n",
        "66.4,\n",
        "68.6,\n",
        "83.1,\n",
        "78.6,\n",
        "80.1,\n",
        "81.7,\n",
        "70.2,\n",
        "86.3,\n",
        "73.4,\n",
        "81.9,\n",
        "70.4,\n",
        "60,\n",
        "66.9]\n",
        "\n",
        "# Perform independent samples t-test\n",
        "t_statistic, p_value = stats.ttest_ind(marathwada_data, other_regions_data)\n",
        "\n",
        "# Print the results\n",
        "print(\"T-Statistic:\", t_statistic)\n",
        "print(\"P-Value:\", p_value)\n",
        "\n",
        "# Interpret the results\n",
        "alpha = 0.05  # Significance level\n",
        "\n",
        "if p_value < alpha:\n",
        "    print(\"Reject the null hypothesis. There is sufficient evidence to support the alternative hypothesis.\")\n",
        "else:\n",
        "    print(\"Fail to reject the null hypothesis. There is not enough evidence to support the alternative hypothesis.\")"
      ],
      "metadata": {
        "colab": {
          "base_uri": "https://localhost:8080/"
        },
        "id": "I9CdOfxPgL9T",
        "outputId": "a7bd32de-0e05-493c-ed10-edc3ba8b9df4"
      },
      "execution_count": 45,
      "outputs": [
        {
          "output_type": "stream",
          "name": "stdout",
          "text": [
            "T-Statistic: -2.1024837378085306\n",
            "P-Value: 0.04322198578024694\n",
            "Reject the null hypothesis. There is sufficient evidence to support the alternative hypothesis.\n"
          ]
        }
      ]
    },
    {
      "cell_type": "code",
      "source": [
        "# Data for the Marathwada region for at least 4 times Antenatal care visits NFHS-4\n",
        "marathwada_data_NFHS4= [63.1, 72.9, 63.7, 64.2, 74.9, 70.5, 74.8, 79.3]  \n",
        "\n",
        "#Other regions NFHS-4\n",
        "other_regions_data_NFHS4 = [63.1, 80.4, 75.7, 83.4, 74.5, 79.9, 62.5, 76.6, 76, 64.6, 69.1,80.7,81.1,52.5,58.6,84.5,68.9,72,65.5,68.9,78.9,73.8,77.3,67.5,71.4]\n",
        "\n",
        "# Perform independent samples t-test\n",
        "t_statistic, p_value = stats.ttest_ind(marathwada_data, other_regions_data)\n",
        "\n",
        "# Print the results\n",
        "print(\"T-Statistic:\", t_statistic)\n",
        "print(\"P-Value:\", p_value)\n",
        "\n",
        "# Interpret the results\n",
        "alpha = 0.05  # Significance level\n",
        "\n",
        "if p_value < alpha:\n",
        "    print(\"Reject the null hypothesis. There is sufficient evidence to support the alternative hypothesis.\")\n",
        "else:\n",
        "    print(\"Fail to reject the null hypothesis. There is not enough evidence to support the alternative hypothesis.\")"
      ],
      "metadata": {
        "colab": {
          "base_uri": "https://localhost:8080/"
        },
        "id": "gUVSHMtVlnpa",
        "outputId": "4bec5142-1a45-4af9-ad70-d7eea0088ee0"
      },
      "execution_count": 46,
      "outputs": [
        {
          "output_type": "stream",
          "name": "stdout",
          "text": [
            "T-Statistic: -2.1024837378085306\n",
            "P-Value: 0.04322198578024694\n",
            "Reject the null hypothesis. There is sufficient evidence to support the alternative hypothesis.\n"
          ]
        }
      ]
    }
  ]
}