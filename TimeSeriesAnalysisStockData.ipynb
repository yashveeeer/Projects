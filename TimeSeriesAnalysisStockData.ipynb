{
  "cells": [
    {
      "cell_type": "markdown",
      "metadata": {
        "id": "view-in-github",
        "colab_type": "text"
      },
      "source": [
        "<a href=\"https://colab.research.google.com/github/yashveeeer/Gokhale/blob/main/TimeSeriesAnalysisStockData.ipynb\" target=\"_parent\"><img src=\"https://colab.research.google.com/assets/colab-badge.svg\" alt=\"Open In Colab\"/></a>"
      ]
    },
    {
      "cell_type": "markdown",
      "metadata": {
        "id": "jsnXWoVRjhdR"
      },
      "source": [
        "# Yashveer Singh, PGDFE2220\n",
        "Assignment For Periodical 2\n",
        "Financial Econometrics \n",
        "Submitted to Mr. Swapnil Mali"
      ]
    },
    {
      "cell_type": "code",
      "execution_count": 1,
      "metadata": {
        "colab": {
          "base_uri": "https://localhost:8080/"
        },
        "id": "GM1QqABMtpYg",
        "outputId": "cb595a87-4599-42fc-cd81-a6eec7d93c0e"
      },
      "outputs": [
        {
          "output_type": "stream",
          "name": "stdout",
          "text": [
            "Looking in indexes: https://pypi.org/simple, https://us-python.pkg.dev/colab-wheels/public/simple/\n",
            "Collecting pyforest\n",
            "  Downloading pyforest-1.1.0.tar.gz (15 kB)\n",
            "  Preparing metadata (setup.py) ... \u001b[?25l\u001b[?25hdone\n",
            "Building wheels for collected packages: pyforest\n",
            "  Building wheel for pyforest (setup.py) ... \u001b[?25l\u001b[?25hdone\n",
            "  Created wheel for pyforest: filename=pyforest-1.1.0-py2.py3-none-any.whl size=14607 sha256=3fba8ede30d38e13459b654d8befb71c769abdf6c31413da1a73f776f7e6d583\n",
            "  Stored in directory: /root/.cache/pip/wheels/21/2d/19/8b5488f0caea6d892333413745640532d40d70e6b5351d7633\n",
            "Successfully built pyforest\n",
            "Installing collected packages: pyforest\n",
            "Successfully installed pyforest-1.1.0\n"
          ]
        }
      ],
      "source": [
        "!pip install pyforest"
      ]
    },
    {
      "cell_type": "code",
      "execution_count": 2,
      "metadata": {
        "id": "F0EZ93AzvVwC"
      },
      "outputs": [],
      "source": [
        "import pyforest"
      ]
    },
    {
      "cell_type": "code",
      "execution_count": 3,
      "metadata": {
        "colab": {
          "base_uri": "https://localhost:8080/"
        },
        "id": "y_uz8K2-v_dq",
        "outputId": "36eeb046-3bf2-4099-ecfa-f36e9e8dca96"
      },
      "outputs": [
        {
          "output_type": "execute_result",
          "data": {
            "text/plain": [
              "['import sklearn',\n",
              " 'import seaborn as sns',\n",
              " 'from sklearn.linear_model import Ridge',\n",
              " 'import glob',\n",
              " 'from sklearn import metrics',\n",
              " 'from sklearn.linear_model import ElasticNetCV',\n",
              " 'from sklearn.linear_model import Lasso',\n",
              " 'from sklearn.model_selection import KFold',\n",
              " 'from sklearn.linear_model import LassoCV',\n",
              " 'from openpyxl import load_workbook',\n",
              " 'import lightgbm as lgb',\n",
              " 'import statistics',\n",
              " 'from sklearn.linear_model import ElasticNet',\n",
              " 'from pathlib import Path',\n",
              " 'from sklearn.model_selection import RandomizedSearchCV',\n",
              " 'from sklearn.manifold import TSNE',\n",
              " 'from PIL import Image',\n",
              " 'import os',\n",
              " 'from sklearn.ensemble import GradientBoostingRegressor',\n",
              " 'import tqdm',\n",
              " 'import pydot',\n",
              " 'import xgboost as xgb',\n",
              " 'from sklearn.linear_model import LogisticRegression',\n",
              " 'import sys',\n",
              " 'from sklearn.preprocessing import LabelEncoder',\n",
              " 'from sklearn.ensemble import RandomForestRegressor',\n",
              " 'import pandas as pd',\n",
              " 'from sklearn.ensemble import RandomForestClassifier',\n",
              " 'from sklearn.preprocessing import PolynomialFeatures',\n",
              " 'from sklearn.linear_model import LinearRegression',\n",
              " 'from sklearn.preprocessing import StandardScaler',\n",
              " 'import bokeh',\n",
              " 'from sklearn.model_selection import GridSearchCV',\n",
              " 'from pyspark import SparkContext',\n",
              " 'import skimage',\n",
              " 'from sklearn.preprocessing import MinMaxScaler',\n",
              " 'import tensorflow as tf',\n",
              " 'import plotly.express as px',\n",
              " 'import fastai',\n",
              " 'import dash',\n",
              " 'from sklearn.cluster import KMeans',\n",
              " 'from sklearn.linear_model import RidgeCV',\n",
              " 'import matplotlib as mpl',\n",
              " 'import pickle',\n",
              " 'import cv2',\n",
              " 'from sklearn.model_selection import StratifiedKFold',\n",
              " 'from fbprophet import Prophet',\n",
              " 'from scipy import signal as sg',\n",
              " 'from sklearn.decomposition import PCA',\n",
              " 'import datetime as dt',\n",
              " 'from sklearn.impute import SimpleImputer',\n",
              " 'import nltk',\n",
              " 'from dask import dataframe as dd',\n",
              " 'import imutils',\n",
              " 'import numpy as np',\n",
              " 'import keras',\n",
              " 'from sklearn.feature_extraction.text import CountVectorizer',\n",
              " 'from sklearn import svm',\n",
              " 'import gensim',\n",
              " 'from sklearn.feature_extraction.text import TfidfVectorizer',\n",
              " 'from sklearn.model_selection import train_test_split',\n",
              " 'import awswrangler as wr',\n",
              " 'import fbprophet',\n",
              " 'import plotly as py',\n",
              " 'import spacy',\n",
              " 'import statsmodels.api as sm',\n",
              " 'import matplotlib.pyplot as plt',\n",
              " 'import altair as alt',\n",
              " 'import textblob',\n",
              " 'from scipy import stats',\n",
              " 'from sklearn.preprocessing import OneHotEncoder',\n",
              " 'from sklearn.model_selection import cross_val_score',\n",
              " 'import torch',\n",
              " 'from sklearn.preprocessing import RobustScaler',\n",
              " 'import re',\n",
              " 'from statsmodels.tsa.arima_model import ARIMA',\n",
              " 'from sklearn.ensemble import GradientBoostingClassifier',\n",
              " 'from xlrd import open_workbook',\n",
              " 'import plotly.graph_objs as go']"
            ]
          },
          "metadata": {},
          "execution_count": 3
        }
      ],
      "source": [
        "lazy_imports()"
      ]
    },
    {
      "cell_type": "code",
      "execution_count": 46,
      "metadata": {
        "colab": {
          "base_uri": "https://localhost:8080/",
          "height": 17
        },
        "id": "4HRmMJRPwXEr",
        "outputId": "8846a662-af05-4702-d196-012603838bd5"
      },
      "outputs": [
        {
          "output_type": "display_data",
          "data": {
            "text/plain": [
              "<IPython.core.display.Javascript object>"
            ],
            "application/javascript": [
              "\n",
              "        if (window._pyforest_update_imports_cell) { window._pyforest_update_imports_cell('import matplotlib.pyplot as plt\\nimport pandas as pd'); }\n",
              "    "
            ]
          },
          "metadata": {}
        }
      ],
      "source": [
        "data = pd.read_excel('/content/Data_Periodical_2.xlsx')"
      ]
    },
    {
      "cell_type": "code",
      "execution_count": 47,
      "metadata": {
        "colab": {
          "base_uri": "https://localhost:8080/"
        },
        "id": "pmlTeT6n28ZA",
        "outputId": "72a68ae2-f2cc-46a7-ec62-0127170c0ffb"
      },
      "outputs": [
        {
          "output_type": "stream",
          "name": "stdout",
          "text": [
            "Index(['Date ', 'series ', 'OPEN ', 'HIGH ', 'LOW ', 'PREV. CLOSE ', 'ltp ',\n",
            "       'close ', 'vwap ', '52W H ', '52W L ', 'VOLUME ', 'VALUE ',\n",
            "       'No of trades '],\n",
            "      dtype='object')\n"
          ]
        }
      ],
      "source": [
        "print(data.columns)"
      ]
    },
    {
      "cell_type": "code",
      "execution_count": 54,
      "metadata": {
        "colab": {
          "base_uri": "https://localhost:8080/",
          "height": 206
        },
        "id": "eFJrYEF1y-nl",
        "outputId": "ad910c49-173b-4282-e5f0-471cd5e6ea53"
      },
      "outputs": [
        {
          "output_type": "execute_result",
          "data": {
            "text/plain": [
              "         Date  series   OPEN   HIGH     LOW   PREV. CLOSE     ltp   close   \\\n",
              "267 2020-01-01      EQ  473.0  476.5  464.80        472.05  467.80  467.75   \n",
              "266 2020-01-02      EQ  472.0  487.8  472.00        467.75  487.80  484.85   \n",
              "265 2020-01-03      EQ  483.0  486.2  479.45        484.85  483.75  483.70   \n",
              "264 2020-01-06      EQ  480.0  480.0  470.55        483.70  473.30  473.25   \n",
              "263 2020-01-07      EQ  475.5  484.6  473.55        473.25  475.20  476.10   \n",
              "\n",
              "      vwap   52W H   52W L    VOLUME         VALUE   No of trades        Date  \\\n",
              "267  469.79  561.65  320.35  12100530  5.684709e+09          80242 2020-01-01   \n",
              "266  480.88  561.65  320.35  21674961  1.042306e+10         188842 2020-01-02   \n",
              "265  482.61  561.65  320.35  12956863  6.253074e+09         124603 2020-01-03   \n",
              "264  474.95  561.65  320.35   9601608  4.560245e+09          93838 2020-01-06   \n",
              "263  479.39  561.65  320.35  13195788  6.325895e+09         116893 2020-01-07   \n",
              "\n",
              "     Daily Returns  \n",
              "267            NaN  \n",
              "266       0.036558  \n",
              "265      -0.002372  \n",
              "264      -0.021604  \n",
              "263       0.006022  "
            ],
            "text/html": [
              "\n",
              "  <div id=\"df-37d3ac85-0b8a-44be-b3e0-4264b2387f8f\">\n",
              "    <div class=\"colab-df-container\">\n",
              "      <div>\n",
              "<style scoped>\n",
              "    .dataframe tbody tr th:only-of-type {\n",
              "        vertical-align: middle;\n",
              "    }\n",
              "\n",
              "    .dataframe tbody tr th {\n",
              "        vertical-align: top;\n",
              "    }\n",
              "\n",
              "    .dataframe thead th {\n",
              "        text-align: right;\n",
              "    }\n",
              "</style>\n",
              "<table border=\"1\" class=\"dataframe\">\n",
              "  <thead>\n",
              "    <tr style=\"text-align: right;\">\n",
              "      <th></th>\n",
              "      <th>Date</th>\n",
              "      <th>series</th>\n",
              "      <th>OPEN</th>\n",
              "      <th>HIGH</th>\n",
              "      <th>LOW</th>\n",
              "      <th>PREV. CLOSE</th>\n",
              "      <th>ltp</th>\n",
              "      <th>close</th>\n",
              "      <th>vwap</th>\n",
              "      <th>52W H</th>\n",
              "      <th>52W L</th>\n",
              "      <th>VOLUME</th>\n",
              "      <th>VALUE</th>\n",
              "      <th>No of trades</th>\n",
              "      <th>Date</th>\n",
              "      <th>Daily Returns</th>\n",
              "    </tr>\n",
              "  </thead>\n",
              "  <tbody>\n",
              "    <tr>\n",
              "      <th>267</th>\n",
              "      <td>2020-01-01</td>\n",
              "      <td>EQ</td>\n",
              "      <td>473.0</td>\n",
              "      <td>476.5</td>\n",
              "      <td>464.80</td>\n",
              "      <td>472.05</td>\n",
              "      <td>467.80</td>\n",
              "      <td>467.75</td>\n",
              "      <td>469.79</td>\n",
              "      <td>561.65</td>\n",
              "      <td>320.35</td>\n",
              "      <td>12100530</td>\n",
              "      <td>5.684709e+09</td>\n",
              "      <td>80242</td>\n",
              "      <td>2020-01-01</td>\n",
              "      <td>NaN</td>\n",
              "    </tr>\n",
              "    <tr>\n",
              "      <th>266</th>\n",
              "      <td>2020-01-02</td>\n",
              "      <td>EQ</td>\n",
              "      <td>472.0</td>\n",
              "      <td>487.8</td>\n",
              "      <td>472.00</td>\n",
              "      <td>467.75</td>\n",
              "      <td>487.80</td>\n",
              "      <td>484.85</td>\n",
              "      <td>480.88</td>\n",
              "      <td>561.65</td>\n",
              "      <td>320.35</td>\n",
              "      <td>21674961</td>\n",
              "      <td>1.042306e+10</td>\n",
              "      <td>188842</td>\n",
              "      <td>2020-01-02</td>\n",
              "      <td>0.036558</td>\n",
              "    </tr>\n",
              "    <tr>\n",
              "      <th>265</th>\n",
              "      <td>2020-01-03</td>\n",
              "      <td>EQ</td>\n",
              "      <td>483.0</td>\n",
              "      <td>486.2</td>\n",
              "      <td>479.45</td>\n",
              "      <td>484.85</td>\n",
              "      <td>483.75</td>\n",
              "      <td>483.70</td>\n",
              "      <td>482.61</td>\n",
              "      <td>561.65</td>\n",
              "      <td>320.35</td>\n",
              "      <td>12956863</td>\n",
              "      <td>6.253074e+09</td>\n",
              "      <td>124603</td>\n",
              "      <td>2020-01-03</td>\n",
              "      <td>-0.002372</td>\n",
              "    </tr>\n",
              "    <tr>\n",
              "      <th>264</th>\n",
              "      <td>2020-01-06</td>\n",
              "      <td>EQ</td>\n",
              "      <td>480.0</td>\n",
              "      <td>480.0</td>\n",
              "      <td>470.55</td>\n",
              "      <td>483.70</td>\n",
              "      <td>473.30</td>\n",
              "      <td>473.25</td>\n",
              "      <td>474.95</td>\n",
              "      <td>561.65</td>\n",
              "      <td>320.35</td>\n",
              "      <td>9601608</td>\n",
              "      <td>4.560245e+09</td>\n",
              "      <td>93838</td>\n",
              "      <td>2020-01-06</td>\n",
              "      <td>-0.021604</td>\n",
              "    </tr>\n",
              "    <tr>\n",
              "      <th>263</th>\n",
              "      <td>2020-01-07</td>\n",
              "      <td>EQ</td>\n",
              "      <td>475.5</td>\n",
              "      <td>484.6</td>\n",
              "      <td>473.55</td>\n",
              "      <td>473.25</td>\n",
              "      <td>475.20</td>\n",
              "      <td>476.10</td>\n",
              "      <td>479.39</td>\n",
              "      <td>561.65</td>\n",
              "      <td>320.35</td>\n",
              "      <td>13195788</td>\n",
              "      <td>6.325895e+09</td>\n",
              "      <td>116893</td>\n",
              "      <td>2020-01-07</td>\n",
              "      <td>0.006022</td>\n",
              "    </tr>\n",
              "  </tbody>\n",
              "</table>\n",
              "</div>\n",
              "      <button class=\"colab-df-convert\" onclick=\"convertToInteractive('df-37d3ac85-0b8a-44be-b3e0-4264b2387f8f')\"\n",
              "              title=\"Convert this dataframe to an interactive table.\"\n",
              "              style=\"display:none;\">\n",
              "        \n",
              "  <svg xmlns=\"http://www.w3.org/2000/svg\" height=\"24px\"viewBox=\"0 0 24 24\"\n",
              "       width=\"24px\">\n",
              "    <path d=\"M0 0h24v24H0V0z\" fill=\"none\"/>\n",
              "    <path d=\"M18.56 5.44l.94 2.06.94-2.06 2.06-.94-2.06-.94-.94-2.06-.94 2.06-2.06.94zm-11 1L8.5 8.5l.94-2.06 2.06-.94-2.06-.94L8.5 2.5l-.94 2.06-2.06.94zm10 10l.94 2.06.94-2.06 2.06-.94-2.06-.94-.94-2.06-.94 2.06-2.06.94z\"/><path d=\"M17.41 7.96l-1.37-1.37c-.4-.4-.92-.59-1.43-.59-.52 0-1.04.2-1.43.59L10.3 9.45l-7.72 7.72c-.78.78-.78 2.05 0 2.83L4 21.41c.39.39.9.59 1.41.59.51 0 1.02-.2 1.41-.59l7.78-7.78 2.81-2.81c.8-.78.8-2.07 0-2.86zM5.41 20L4 18.59l7.72-7.72 1.47 1.35L5.41 20z\"/>\n",
              "  </svg>\n",
              "      </button>\n",
              "      \n",
              "  <style>\n",
              "    .colab-df-container {\n",
              "      display:flex;\n",
              "      flex-wrap:wrap;\n",
              "      gap: 12px;\n",
              "    }\n",
              "\n",
              "    .colab-df-convert {\n",
              "      background-color: #E8F0FE;\n",
              "      border: none;\n",
              "      border-radius: 50%;\n",
              "      cursor: pointer;\n",
              "      display: none;\n",
              "      fill: #1967D2;\n",
              "      height: 32px;\n",
              "      padding: 0 0 0 0;\n",
              "      width: 32px;\n",
              "    }\n",
              "\n",
              "    .colab-df-convert:hover {\n",
              "      background-color: #E2EBFA;\n",
              "      box-shadow: 0px 1px 2px rgba(60, 64, 67, 0.3), 0px 1px 3px 1px rgba(60, 64, 67, 0.15);\n",
              "      fill: #174EA6;\n",
              "    }\n",
              "\n",
              "    [theme=dark] .colab-df-convert {\n",
              "      background-color: #3B4455;\n",
              "      fill: #D2E3FC;\n",
              "    }\n",
              "\n",
              "    [theme=dark] .colab-df-convert:hover {\n",
              "      background-color: #434B5C;\n",
              "      box-shadow: 0px 1px 3px 1px rgba(0, 0, 0, 0.15);\n",
              "      filter: drop-shadow(0px 1px 2px rgba(0, 0, 0, 0.3));\n",
              "      fill: #FFFFFF;\n",
              "    }\n",
              "  </style>\n",
              "\n",
              "      <script>\n",
              "        const buttonEl =\n",
              "          document.querySelector('#df-37d3ac85-0b8a-44be-b3e0-4264b2387f8f button.colab-df-convert');\n",
              "        buttonEl.style.display =\n",
              "          google.colab.kernel.accessAllowed ? 'block' : 'none';\n",
              "\n",
              "        async function convertToInteractive(key) {\n",
              "          const element = document.querySelector('#df-37d3ac85-0b8a-44be-b3e0-4264b2387f8f');\n",
              "          const dataTable =\n",
              "            await google.colab.kernel.invokeFunction('convertToInteractive',\n",
              "                                                     [key], {});\n",
              "          if (!dataTable) return;\n",
              "\n",
              "          const docLinkHtml = 'Like what you see? Visit the ' +\n",
              "            '<a target=\"_blank\" href=https://colab.research.google.com/notebooks/data_table.ipynb>data table notebook</a>'\n",
              "            + ' to learn more about interactive tables.';\n",
              "          element.innerHTML = '';\n",
              "          dataTable['output_type'] = 'display_data';\n",
              "          await google.colab.output.renderOutput(dataTable, element);\n",
              "          const docLink = document.createElement('div');\n",
              "          docLink.innerHTML = docLinkHtml;\n",
              "          element.appendChild(docLink);\n",
              "        }\n",
              "      </script>\n",
              "    </div>\n",
              "  </div>\n",
              "  "
            ]
          },
          "metadata": {},
          "execution_count": 54
        }
      ],
      "source": [
        "data.head()"
      ]
    },
    {
      "cell_type": "code",
      "execution_count": 57,
      "metadata": {
        "colab": {
          "base_uri": "https://localhost:8080/"
        },
        "id": "hTOnpVvv4ccM",
        "outputId": "1fee784b-92f2-4571-97e5-7f61e94b5232"
      },
      "outputs": [
        {
          "output_type": "stream",
          "name": "stdout",
          "text": [
            "     index      Date  series    OPEN    HIGH     LOW   PREV. CLOSE     ltp   \\\n",
            "0      267 2020-01-01      EQ  473.00  476.50  464.80        472.05  467.80   \n",
            "1      266 2020-01-02      EQ  472.00  487.80  472.00        467.75  487.80   \n",
            "2      265 2020-01-03      EQ  483.00  486.20  479.45        484.85  483.75   \n",
            "3      264 2020-01-06      EQ  480.00  480.00  470.55        483.70  473.30   \n",
            "4      263 2020-01-07      EQ  475.50  484.60  473.55        473.25  475.20   \n",
            "..     ...        ...     ...     ...     ...     ...           ...     ...   \n",
            "263      4 2020-12-24      EQ  625.30  636.95  619.25        621.40  623.00   \n",
            "264      3 2020-12-28      EQ  628.25  635.35  626.60        622.30  634.00   \n",
            "265      2 2020-12-29      EQ  637.85  639.65  621.05        632.65  630.60   \n",
            "266      1 2020-12-30      EQ  632.95  643.95  624.05        632.20  641.05   \n",
            "267      0 2020-12-31      EQ  636.55  653.50  636.55        640.45  642.55   \n",
            "\n",
            "     close    vwap   52W H   52W L    VOLUME         VALUE   No of trades   \\\n",
            "0    467.75  469.79  561.65  320.35  12100530  5.684709e+09          80242   \n",
            "1    484.85  480.88  561.65  320.35  21674961  1.042306e+10         188842   \n",
            "2    483.70  482.61  561.65  320.35  12956863  6.253074e+09         124603   \n",
            "3    473.25  474.95  561.65  320.35   9601608  4.560245e+09          93838   \n",
            "4    476.10  479.39  561.65  320.35  13195788  6.325895e+09         116893   \n",
            "..      ...     ...     ...     ...       ...           ...            ...   \n",
            "263  622.30  626.77  649.45  250.85  12090740  7.578160e+09         109825   \n",
            "264  632.65  631.53  649.45  250.85  10480517  6.618711e+09         108035   \n",
            "265  632.20  629.60  649.45  250.85  10416326  6.558123e+09         117972   \n",
            "266  640.45  633.27  649.45  250.85  11514428  7.291737e+09         104168   \n",
            "267  643.65  645.14  653.50  250.85  17713012  1.142741e+10         168389   \n",
            "\n",
            "          Date  Daily Returns  \n",
            "0   2020-01-01            NaN  \n",
            "1   2020-01-02       0.036558  \n",
            "2   2020-01-03      -0.002372  \n",
            "3   2020-01-06      -0.021604  \n",
            "4   2020-01-07       0.006022  \n",
            "..         ...            ...  \n",
            "263 2020-12-24       0.001448  \n",
            "264 2020-12-28       0.016632  \n",
            "265 2020-12-29      -0.000711  \n",
            "266 2020-12-30       0.013050  \n",
            "267 2020-12-31       0.004996  \n",
            "\n",
            "[268 rows x 17 columns]\n"
          ]
        }
      ],
      "source": [
        "data = data.sort_values(by='Date')\n",
        "print(data)"
      ]
    },
    {
      "cell_type": "code",
      "source": [
        "data = data.reset_index()\n"
      ],
      "metadata": {
        "id": "5dJglh6LJvpO"
      },
      "execution_count": 58,
      "outputs": []
    },
    {
      "cell_type": "code",
      "execution_count": 59,
      "metadata": {
        "id": "udftWB5N4nXe"
      },
      "outputs": [],
      "source": [
        "data['Daily Returns'] = data['close '].pct_change()"
      ]
    },
    {
      "cell_type": "code",
      "execution_count": 60,
      "metadata": {
        "colab": {
          "base_uri": "https://localhost:8080/"
        },
        "id": "fBR2LvFd5Ccb",
        "outputId": "b3a42a96-df21-483a-b970-e7d352eed540"
      },
      "outputs": [
        {
          "output_type": "stream",
          "name": "stdout",
          "text": [
            "     level_0  index      Date  series    OPEN    HIGH     LOW   PREV. CLOSE   \\\n",
            "0          0    267 2020-01-01      EQ  473.00  476.50  464.80        472.05   \n",
            "1          1    266 2020-01-02      EQ  472.00  487.80  472.00        467.75   \n",
            "2          2    265 2020-01-03      EQ  483.00  486.20  479.45        484.85   \n",
            "3          3    264 2020-01-06      EQ  480.00  480.00  470.55        483.70   \n",
            "4          4    263 2020-01-07      EQ  475.50  484.60  473.55        473.25   \n",
            "..       ...    ...        ...     ...     ...     ...     ...           ...   \n",
            "263      263      4 2020-12-24      EQ  625.30  636.95  619.25        621.40   \n",
            "264      264      3 2020-12-28      EQ  628.25  635.35  626.60        622.30   \n",
            "265      265      2 2020-12-29      EQ  637.85  639.65  621.05        632.65   \n",
            "266      266      1 2020-12-30      EQ  632.95  643.95  624.05        632.20   \n",
            "267      267      0 2020-12-31      EQ  636.55  653.50  636.55        640.45   \n",
            "\n",
            "       ltp   close    vwap   52W H   52W L    VOLUME         VALUE   \\\n",
            "0    467.80  467.75  469.79  561.65  320.35  12100530  5.684709e+09   \n",
            "1    487.80  484.85  480.88  561.65  320.35  21674961  1.042306e+10   \n",
            "2    483.75  483.70  482.61  561.65  320.35  12956863  6.253074e+09   \n",
            "3    473.30  473.25  474.95  561.65  320.35   9601608  4.560245e+09   \n",
            "4    475.20  476.10  479.39  561.65  320.35  13195788  6.325895e+09   \n",
            "..      ...     ...     ...     ...     ...       ...           ...   \n",
            "263  623.00  622.30  626.77  649.45  250.85  12090740  7.578160e+09   \n",
            "264  634.00  632.65  631.53  649.45  250.85  10480517  6.618711e+09   \n",
            "265  630.60  632.20  629.60  649.45  250.85  10416326  6.558123e+09   \n",
            "266  641.05  640.45  633.27  649.45  250.85  11514428  7.291737e+09   \n",
            "267  642.55  643.65  645.14  653.50  250.85  17713012  1.142741e+10   \n",
            "\n",
            "     No of trades        Date  Daily Returns  \n",
            "0            80242 2020-01-01            NaN  \n",
            "1           188842 2020-01-02       0.036558  \n",
            "2           124603 2020-01-03      -0.002372  \n",
            "3            93838 2020-01-06      -0.021604  \n",
            "4           116893 2020-01-07       0.006022  \n",
            "..             ...        ...            ...  \n",
            "263         109825 2020-12-24       0.001448  \n",
            "264         108035 2020-12-28       0.016632  \n",
            "265         117972 2020-12-29      -0.000711  \n",
            "266         104168 2020-12-30       0.013050  \n",
            "267         168389 2020-12-31       0.004996  \n",
            "\n",
            "[268 rows x 18 columns]\n"
          ]
        }
      ],
      "source": [
        "print(data)"
      ]
    },
    {
      "cell_type": "code",
      "execution_count": 61,
      "metadata": {
        "colab": {
          "base_uri": "https://localhost:8080/",
          "height": 281
        },
        "id": "mYaWbt_tlXjR",
        "outputId": "ea9506e4-a299-45b9-e4db-af21a21e358a"
      },
      "outputs": [
        {
          "output_type": "display_data",
          "data": {
            "text/plain": [
              "<IPython.core.display.Javascript object>"
            ],
            "application/javascript": [
              "\n",
              "        if (window._pyforest_update_imports_cell) { window._pyforest_update_imports_cell('import matplotlib.pyplot as plt\\nimport pandas as pd'); }\n",
              "    "
            ]
          },
          "metadata": {}
        },
        {
          "output_type": "display_data",
          "data": {
            "text/plain": [
              "<IPython.core.display.Javascript object>"
            ],
            "application/javascript": [
              "\n",
              "        if (window._pyforest_update_imports_cell) { window._pyforest_update_imports_cell('import matplotlib.pyplot as plt\\nimport pandas as pd'); }\n",
              "    "
            ]
          },
          "metadata": {}
        },
        {
          "output_type": "display_data",
          "data": {
            "text/plain": [
              "<IPython.core.display.Javascript object>"
            ],
            "application/javascript": [
              "\n",
              "        if (window._pyforest_update_imports_cell) { window._pyforest_update_imports_cell('import matplotlib.pyplot as plt\\nimport pandas as pd'); }\n",
              "    "
            ]
          },
          "metadata": {}
        },
        {
          "output_type": "display_data",
          "data": {
            "text/plain": [
              "<Figure size 432x288 with 1 Axes>"
            ],
            "image/png": "[encoded data removed]"
          },
          "metadata": {
            "needs_background": "light"
          }
        }
      ],
      "source": [
        "plt.plot(data['close '])\n",
        "plt.title('Periodical 2 assignment')\n",
        "plt.show()"
      ]
    },
    {
      "cell_type": "code",
      "execution_count": 62,
      "metadata": {
        "colab": {
          "base_uri": "https://localhost:8080/",
          "height": 423
        },
        "id": "4Jw1Kr0W5FJr",
        "outputId": "803c8a06-3471-4648-98cd-c31e2c3813b9"
      },
      "outputs": [
        {
          "output_type": "execute_result",
          "data": {
            "text/plain": [
              "     Daily Returns\n",
              "0              NaN\n",
              "1         0.036558\n",
              "2        -0.002372\n",
              "3        -0.021604\n",
              "4         0.006022\n",
              "..             ...\n",
              "263       0.001448\n",
              "264       0.016632\n",
              "265      -0.000711\n",
              "266       0.013050\n",
              "267       0.004996\n",
              "\n",
              "[268 rows x 1 columns]"
            ],
            "text/html": [
              "\n",
              "  <div id=\"df-13f5aa4b-ca51-4ebc-a2f4-daa7052d6df1\">\n",
              "    <div class=\"colab-df-container\">\n",
              "      <div>\n",
              "<style scoped>\n",
              "    .dataframe tbody tr th:only-of-type {\n",
              "        vertical-align: middle;\n",
              "    }\n",
              "\n",
              "    .dataframe tbody tr th {\n",
              "        vertical-align: top;\n",
              "    }\n",
              "\n",
              "    .dataframe thead th {\n",
              "        text-align: right;\n",
              "    }\n",
              "</style>\n",
              "<table border=\"1\" class=\"dataframe\">\n",
              "  <thead>\n",
              "    <tr style=\"text-align: right;\">\n",
              "      <th></th>\n",
              "      <th>Daily Returns</th>\n",
              "    </tr>\n",
              "  </thead>\n",
              "  <tbody>\n",
              "    <tr>\n",
              "      <th>0</th>\n",
              "      <td>NaN</td>\n",
              "    </tr>\n",
              "    <tr>\n",
              "      <th>1</th>\n",
              "      <td>0.036558</td>\n",
              "    </tr>\n",
              "    <tr>\n",
              "      <th>2</th>\n",
              "      <td>-0.002372</td>\n",
              "    </tr>\n",
              "    <tr>\n",
              "      <th>3</th>\n",
              "      <td>-0.021604</td>\n",
              "    </tr>\n",
              "    <tr>\n",
              "      <th>4</th>\n",
              "      <td>0.006022</td>\n",
              "    </tr>\n",
              "    <tr>\n",
              "      <th>...</th>\n",
              "      <td>...</td>\n",
              "    </tr>\n",
              "    <tr>\n",
              "      <th>263</th>\n",
              "      <td>0.001448</td>\n",
              "    </tr>\n",
              "    <tr>\n",
              "      <th>264</th>\n",
              "      <td>0.016632</td>\n",
              "    </tr>\n",
              "    <tr>\n",
              "      <th>265</th>\n",
              "      <td>-0.000711</td>\n",
              "    </tr>\n",
              "    <tr>\n",
              "      <th>266</th>\n",
              "      <td>0.013050</td>\n",
              "    </tr>\n",
              "    <tr>\n",
              "      <th>267</th>\n",
              "      <td>0.004996</td>\n",
              "    </tr>\n",
              "  </tbody>\n",
              "</table>\n",
              "<p>268 rows × 1 columns</p>\n",
              "</div>\n",
              "      <button class=\"colab-df-convert\" onclick=\"convertToInteractive('df-13f5aa4b-ca51-4ebc-a2f4-daa7052d6df1')\"\n",
              "              title=\"Convert this dataframe to an interactive table.\"\n",
              "              style=\"display:none;\">\n",
              "        \n",
              "  <svg xmlns=\"http://www.w3.org/2000/svg\" height=\"24px\"viewBox=\"0 0 24 24\"\n",
              "       width=\"24px\">\n",
              "    <path d=\"M0 0h24v24H0V0z\" fill=\"none\"/>\n",
              "    <path d=\"M18.56 5.44l.94 2.06.94-2.06 2.06-.94-2.06-.94-.94-2.06-.94 2.06-2.06.94zm-11 1L8.5 8.5l.94-2.06 2.06-.94-2.06-.94L8.5 2.5l-.94 2.06-2.06.94zm10 10l.94 2.06.94-2.06 2.06-.94-2.06-.94-.94-2.06-.94 2.06-2.06.94z\"/><path d=\"M17.41 7.96l-1.37-1.37c-.4-.4-.92-.59-1.43-.59-.52 0-1.04.2-1.43.59L10.3 9.45l-7.72 7.72c-.78.78-.78 2.05 0 2.83L4 21.41c.39.39.9.59 1.41.59.51 0 1.02-.2 1.41-.59l7.78-7.78 2.81-2.81c.8-.78.8-2.07 0-2.86zM5.41 20L4 18.59l7.72-7.72 1.47 1.35L5.41 20z\"/>\n",
              "  </svg>\n",
              "      </button>\n",
              "      \n",
              "  <style>\n",
              "    .colab-df-container {\n",
              "      display:flex;\n",
              "      flex-wrap:wrap;\n",
              "      gap: 12px;\n",
              "    }\n",
              "\n",
              "    .colab-df-convert {\n",
              "      background-color: #E8F0FE;\n",
              "      border: none;\n",
              "      border-radius: 50%;\n",
              "      cursor: pointer;\n",
              "      display: none;\n",
              "      fill: #1967D2;\n",
              "      height: 32px;\n",
              "      padding: 0 0 0 0;\n",
              "      width: 32px;\n",
              "    }\n",
              "\n",
              "    .colab-df-convert:hover {\n",
              "      background-color: #E2EBFA;\n",
              "      box-shadow: 0px 1px 2px rgba(60, 64, 67, 0.3), 0px 1px 3px 1px rgba(60, 64, 67, 0.15);\n",
              "      fill: #174EA6;\n",
              "    }\n",
              "\n",
              "    [theme=dark] .colab-df-convert {\n",
              "      background-color: #3B4455;\n",
              "      fill: #D2E3FC;\n",
              "    }\n",
              "\n",
              "    [theme=dark] .colab-df-convert:hover {\n",
              "      background-color: #434B5C;\n",
              "      box-shadow: 0px 1px 3px 1px rgba(0, 0, 0, 0.15);\n",
              "      filter: drop-shadow(0px 1px 2px rgba(0, 0, 0, 0.3));\n",
              "      fill: #FFFFFF;\n",
              "    }\n",
              "  </style>\n",
              "\n",
              "      <script>\n",
              "        const buttonEl =\n",
              "          document.querySelector('#df-13f5aa4b-ca51-4ebc-a2f4-daa7052d6df1 button.colab-df-convert');\n",
              "        buttonEl.style.display =\n",
              "          google.colab.kernel.accessAllowed ? 'block' : 'none';\n",
              "\n",
              "        async function convertToInteractive(key) {\n",
              "          const element = document.querySelector('#df-13f5aa4b-ca51-4ebc-a2f4-daa7052d6df1');\n",
              "          const dataTable =\n",
              "            await google.colab.kernel.invokeFunction('convertToInteractive',\n",
              "                                                     [key], {});\n",
              "          if (!dataTable) return;\n",
              "\n",
              "          const docLinkHtml = 'Like what you see? Visit the ' +\n",
              "            '<a target=\"_blank\" href=https://colab.research.google.com/notebooks/data_table.ipynb>data table notebook</a>'\n",
              "            + ' to learn more about interactive tables.';\n",
              "          element.innerHTML = '';\n",
              "          dataTable['output_type'] = 'display_data';\n",
              "          await google.colab.output.renderOutput(dataTable, element);\n",
              "          const docLink = document.createElement('div');\n",
              "          docLink.innerHTML = docLinkHtml;\n",
              "          element.appendChild(docLink);\n",
              "        }\n",
              "      </script>\n",
              "    </div>\n",
              "  </div>\n",
              "  "
            ]
          },
          "metadata": {},
          "execution_count": 62
        }
      ],
      "source": [
        "data2 = data[['Daily Returns']]\n",
        "data2"
      ]
    },
    {
      "cell_type": "code",
      "execution_count": 63,
      "metadata": {
        "id": "E80nFnrw_Xyn"
      },
      "outputs": [],
      "source": [
        "data3 = data2[['Daily Returns']].fillna(data2[['Daily Returns']].mean())"
      ]
    },
    {
      "cell_type": "code",
      "execution_count": 64,
      "metadata": {
        "colab": {
          "base_uri": "https://localhost:8080/",
          "height": 423
        },
        "id": "AKxM-m_QA8G7",
        "outputId": "b314a152-0dcb-4b44-ef76-2a77a9d4d78c"
      },
      "outputs": [
        {
          "output_type": "execute_result",
          "data": {
            "text/plain": [
              "     Daily Returns\n",
              "0         0.001645\n",
              "1         0.036558\n",
              "2        -0.002372\n",
              "3        -0.021604\n",
              "4         0.006022\n",
              "..             ...\n",
              "263       0.001448\n",
              "264       0.016632\n",
              "265      -0.000711\n",
              "266       0.013050\n",
              "267       0.004996\n",
              "\n",
              "[268 rows x 1 columns]"
            ],
            "text/html": [
              "\n",
              "  <div id=\"df-509a08f7-e6e8-41df-939a-942c874f61ce\">\n",
              "    <div class=\"colab-df-container\">\n",
              "      <div>\n",
              "<style scoped>\n",
              "    .dataframe tbody tr th:only-of-type {\n",
              "        vertical-align: middle;\n",
              "    }\n",
              "\n",
              "    .dataframe tbody tr th {\n",
              "        vertical-align: top;\n",
              "    }\n",
              "\n",
              "    .dataframe thead th {\n",
              "        text-align: right;\n",
              "    }\n",
              "</style>\n",
              "<table border=\"1\" class=\"dataframe\">\n",
              "  <thead>\n",
              "    <tr style=\"text-align: right;\">\n",
              "      <th></th>\n",
              "      <th>Daily Returns</th>\n",
              "    </tr>\n",
              "  </thead>\n",
              "  <tbody>\n",
              "    <tr>\n",
              "      <th>0</th>\n",
              "      <td>0.001645</td>\n",
              "    </tr>\n",
              "    <tr>\n",
              "      <th>1</th>\n",
              "      <td>0.036558</td>\n",
              "    </tr>\n",
              "    <tr>\n",
              "      <th>2</th>\n",
              "      <td>-0.002372</td>\n",
              "    </tr>\n",
              "    <tr>\n",
              "      <th>3</th>\n",
              "      <td>-0.021604</td>\n",
              "    </tr>\n",
              "    <tr>\n",
              "      <th>4</th>\n",
              "      <td>0.006022</td>\n",
              "    </tr>\n",
              "    <tr>\n",
              "      <th>...</th>\n",
              "      <td>...</td>\n",
              "    </tr>\n",
              "    <tr>\n",
              "      <th>263</th>\n",
              "      <td>0.001448</td>\n",
              "    </tr>\n",
              "    <tr>\n",
              "      <th>264</th>\n",
              "      <td>0.016632</td>\n",
              "    </tr>\n",
              "    <tr>\n",
              "      <th>265</th>\n",
              "      <td>-0.000711</td>\n",
              "    </tr>\n",
              "    <tr>\n",
              "      <th>266</th>\n",
              "      <td>0.013050</td>\n",
              "    </tr>\n",
              "    <tr>\n",
              "      <th>267</th>\n",
              "      <td>0.004996</td>\n",
              "    </tr>\n",
              "  </tbody>\n",
              "</table>\n",
              "<p>268 rows × 1 columns</p>\n",
              "</div>\n",
              "      <button class=\"colab-df-convert\" onclick=\"convertToInteractive('df-509a08f7-e6e8-41df-939a-942c874f61ce')\"\n",
              "              title=\"Convert this dataframe to an interactive table.\"\n",
              "              style=\"display:none;\">\n",
              "        \n",
              "  <svg xmlns=\"http://www.w3.org/2000/svg\" height=\"24px\"viewBox=\"0 0 24 24\"\n",
              "       width=\"24px\">\n",
              "    <path d=\"M0 0h24v24H0V0z\" fill=\"none\"/>\n",
              "    <path d=\"M18.56 5.44l.94 2.06.94-2.06 2.06-.94-2.06-.94-.94-2.06-.94 2.06-2.06.94zm-11 1L8.5 8.5l.94-2.06 2.06-.94-2.06-.94L8.5 2.5l-.94 2.06-2.06.94zm10 10l.94 2.06.94-2.06 2.06-.94-2.06-.94-.94-2.06-.94 2.06-2.06.94z\"/><path d=\"M17.41 7.96l-1.37-1.37c-.4-.4-.92-.59-1.43-.59-.52 0-1.04.2-1.43.59L10.3 9.45l-7.72 7.72c-.78.78-.78 2.05 0 2.83L4 21.41c.39.39.9.59 1.41.59.51 0 1.02-.2 1.41-.59l7.78-7.78 2.81-2.81c.8-.78.8-2.07 0-2.86zM5.41 20L4 18.59l7.72-7.72 1.47 1.35L5.41 20z\"/>\n",
              "  </svg>\n",
              "      </button>\n",
              "      \n",
              "  <style>\n",
              "    .colab-df-container {\n",
              "      display:flex;\n",
              "      flex-wrap:wrap;\n",
              "      gap: 12px;\n",
              "    }\n",
              "\n",
              "    .colab-df-convert {\n",
              "      background-color: #E8F0FE;\n",
              "      border: none;\n",
              "      border-radius: 50%;\n",
              "      cursor: pointer;\n",
              "      display: none;\n",
              "      fill: #1967D2;\n",
              "      height: 32px;\n",
              "      padding: 0 0 0 0;\n",
              "      width: 32px;\n",
              "    }\n",
              "\n",
              "    .colab-df-convert:hover {\n",
              "      background-color: #E2EBFA;\n",
              "      box-shadow: 0px 1px 2px rgba(60, 64, 67, 0.3), 0px 1px 3px 1px rgba(60, 64, 67, 0.15);\n",
              "      fill: #174EA6;\n",
              "    }\n",
              "\n",
              "    [theme=dark] .colab-df-convert {\n",
              "      background-color: #3B4455;\n",
              "      fill: #D2E3FC;\n",
              "    }\n",
              "\n",
              "    [theme=dark] .colab-df-convert:hover {\n",
              "      background-color: #434B5C;\n",
              "      box-shadow: 0px 1px 3px 1px rgba(0, 0, 0, 0.15);\n",
              "      filter: drop-shadow(0px 1px 2px rgba(0, 0, 0, 0.3));\n",
              "      fill: #FFFFFF;\n",
              "    }\n",
              "  </style>\n",
              "\n",
              "      <script>\n",
              "        const buttonEl =\n",
              "          document.querySelector('#df-509a08f7-e6e8-41df-939a-942c874f61ce button.colab-df-convert');\n",
              "        buttonEl.style.display =\n",
              "          google.colab.kernel.accessAllowed ? 'block' : 'none';\n",
              "\n",
              "        async function convertToInteractive(key) {\n",
              "          const element = document.querySelector('#df-509a08f7-e6e8-41df-939a-942c874f61ce');\n",
              "          const dataTable =\n",
              "            await google.colab.kernel.invokeFunction('convertToInteractive',\n",
              "                                                     [key], {});\n",
              "          if (!dataTable) return;\n",
              "\n",
              "          const docLinkHtml = 'Like what you see? Visit the ' +\n",
              "            '<a target=\"_blank\" href=https://colab.research.google.com/notebooks/data_table.ipynb>data table notebook</a>'\n",
              "            + ' to learn more about interactive tables.';\n",
              "          element.innerHTML = '';\n",
              "          dataTable['output_type'] = 'display_data';\n",
              "          await google.colab.output.renderOutput(dataTable, element);\n",
              "          const docLink = document.createElement('div');\n",
              "          docLink.innerHTML = docLinkHtml;\n",
              "          element.appendChild(docLink);\n",
              "        }\n",
              "      </script>\n",
              "    </div>\n",
              "  </div>\n",
              "  "
            ]
          },
          "metadata": {},
          "execution_count": 64
        }
      ],
      "source": [
        "data3"
      ]
    },
    {
      "cell_type": "code",
      "execution_count": 65,
      "metadata": {
        "colab": {
          "base_uri": "https://localhost:8080/",
          "height": 281
        },
        "id": "qCO9bhIj6T9i",
        "outputId": "6572a95e-3eab-4c62-893b-016301211836"
      },
      "outputs": [
        {
          "output_type": "display_data",
          "data": {
            "text/plain": [
              "<IPython.core.display.Javascript object>"
            ],
            "application/javascript": [
              "\n",
              "        if (window._pyforest_update_imports_cell) { window._pyforest_update_imports_cell('import matplotlib.pyplot as plt\\nimport pandas as pd'); }\n",
              "    "
            ]
          },
          "metadata": {}
        },
        {
          "output_type": "display_data",
          "data": {
            "text/plain": [
              "<IPython.core.display.Javascript object>"
            ],
            "application/javascript": [
              "\n",
              "        if (window._pyforest_update_imports_cell) { window._pyforest_update_imports_cell('import matplotlib.pyplot as plt\\nimport pandas as pd'); }\n",
              "    "
            ]
          },
          "metadata": {}
        },
        {
          "output_type": "display_data",
          "data": {
            "text/plain": [
              "<IPython.core.display.Javascript object>"
            ],
            "application/javascript": [
              "\n",
              "        if (window._pyforest_update_imports_cell) { window._pyforest_update_imports_cell('import matplotlib.pyplot as plt\\nimport pandas as pd'); }\n",
              "    "
            ]
          },
          "metadata": {}
        },
        {
          "output_type": "display_data",
          "data": {
            "text/plain": [
              "<Figure size 432x288 with 1 Axes>"
            ],
            "image/png": "[encoded data removed]"
          },
          "metadata": {
            "needs_background": "light"
          }
        }
      ],
      "source": [
        "plt.plot(data3)\n",
        "plt.title('Periodical 2 assignment')\n",
        "plt.show()"
      ]
    },
    {
      "cell_type": "code",
      "execution_count": 66,
      "metadata": {
        "id": "FwHF_Eiu6_US"
      },
      "outputs": [],
      "source": [
        "rolling_mean = data3.rolling(window=12).mean()\n",
        "rolling_std = data3.rolling(window=12).std()"
      ]
    },
    {
      "cell_type": "code",
      "execution_count": 67,
      "metadata": {
        "colab": {
          "base_uri": "https://localhost:8080/",
          "height": 281
        },
        "id": "peDYsKGG7dok",
        "outputId": "89b6e7c8-afed-4b38-a183-6abc18e12133"
      },
      "outputs": [
        {
          "output_type": "display_data",
          "data": {
            "text/plain": [
              "<IPython.core.display.Javascript object>"
            ],
            "application/javascript": [
              "\n",
              "        if (window._pyforest_update_imports_cell) { window._pyforest_update_imports_cell('import matplotlib.pyplot as plt\\nimport pandas as pd'); }\n",
              "    "
            ]
          },
          "metadata": {}
        },
        {
          "output_type": "display_data",
          "data": {
            "text/plain": [
              "<IPython.core.display.Javascript object>"
            ],
            "application/javascript": [
              "\n",
              "        if (window._pyforest_update_imports_cell) { window._pyforest_update_imports_cell('import matplotlib.pyplot as plt\\nimport pandas as pd'); }\n",
              "    "
            ]
          },
          "metadata": {}
        },
        {
          "output_type": "display_data",
          "data": {
            "text/plain": [
              "<IPython.core.display.Javascript object>"
            ],
            "application/javascript": [
              "\n",
              "        if (window._pyforest_update_imports_cell) { window._pyforest_update_imports_cell('import matplotlib.pyplot as plt\\nimport pandas as pd'); }\n",
              "    "
            ]
          },
          "metadata": {}
        },
        {
          "output_type": "display_data",
          "data": {
            "text/plain": [
              "<IPython.core.display.Javascript object>"
            ],
            "application/javascript": [
              "\n",
              "        if (window._pyforest_update_imports_cell) { window._pyforest_update_imports_cell('import matplotlib.pyplot as plt\\nimport pandas as pd'); }\n",
              "    "
            ]
          },
          "metadata": {}
        },
        {
          "output_type": "display_data",
          "data": {
            "text/plain": [
              "<IPython.core.display.Javascript object>"
            ],
            "application/javascript": [
              "\n",
              "        if (window._pyforest_update_imports_cell) { window._pyforest_update_imports_cell('import matplotlib.pyplot as plt\\nimport pandas as pd'); }\n",
              "    "
            ]
          },
          "metadata": {}
        },
        {
          "output_type": "display_data",
          "data": {
            "text/plain": [
              "<IPython.core.display.Javascript object>"
            ],
            "application/javascript": [
              "\n",
              "        if (window._pyforest_update_imports_cell) { window._pyforest_update_imports_cell('import matplotlib.pyplot as plt\\nimport pandas as pd'); }\n",
              "    "
            ]
          },
          "metadata": {}
        },
        {
          "output_type": "display_data",
          "data": {
            "text/plain": [
              "<Figure size 432x288 with 1 Axes>"
            ],
            "image/png": "[encoded data removed]"
          },
          "metadata": {
            "needs_background": "light"
          }
        }
      ],
      "source": [
        "plt.plot(data3, color='blue', label='Original')\n",
        "plt.plot(rolling_mean, color='red', label='Rolling Mean')\n",
        "plt.plot(rolling_std, color='black', label='Rolling Std')\n",
        "plt.legend(loc='best')\n",
        "plt.title('Rolling Mean & Standard Deviation')\n",
        "plt.show()"
      ]
    },
    {
      "cell_type": "code",
      "execution_count": 68,
      "metadata": {
        "id": "XJFF2cu4gyT0"
      },
      "outputs": [],
      "source": [
        "from statsmodels.graphics.tsaplots import plot_acf, plot_pacf"
      ]
    },
    {
      "cell_type": "code",
      "execution_count": 69,
      "metadata": {
        "colab": {
          "base_uri": "https://localhost:8080/",
          "height": 763
        },
        "id": "Obi8xMA2hCHj",
        "outputId": "c7539eb2-78dc-47c5-da6b-4f679e809e6f"
      },
      "outputs": [
        {
          "output_type": "display_data",
          "data": {
            "text/plain": [
              "<IPython.core.display.Javascript object>"
            ],
            "application/javascript": [
              "\n",
              "        if (window._pyforest_update_imports_cell) { window._pyforest_update_imports_cell('import matplotlib.pyplot as plt\\nimport pandas as pd'); }\n",
              "    "
            ]
          },
          "metadata": {}
        },
        {
          "output_type": "display_data",
          "data": {
            "text/plain": [
              "<IPython.core.display.Javascript object>"
            ],
            "application/javascript": [
              "\n",
              "        if (window._pyforest_update_imports_cell) { window._pyforest_update_imports_cell('import matplotlib.pyplot as plt\\nimport pandas as pd'); }\n",
              "    "
            ]
          },
          "metadata": {}
        },
        {
          "output_type": "display_data",
          "data": {
            "text/plain": [
              "<Figure size 864x432 with 1 Axes>"
            ],
            "image/png": "[encoded data removed]"
          },
          "metadata": {
            "needs_background": "light"
          }
        },
        {
          "output_type": "display_data",
          "data": {
            "text/plain": [
              "<IPython.core.display.Javascript object>"
            ],
            "application/javascript": [
              "\n",
              "        if (window._pyforest_update_imports_cell) { window._pyforest_update_imports_cell('import matplotlib.pyplot as plt\\nimport pandas as pd'); }\n",
              "    "
            ]
          },
          "metadata": {}
        },
        {
          "output_type": "display_data",
          "data": {
            "text/plain": [
              "<IPython.core.display.Javascript object>"
            ],
            "application/javascript": [
              "\n",
              "        if (window._pyforest_update_imports_cell) { window._pyforest_update_imports_cell('import matplotlib.pyplot as plt\\nimport pandas as pd'); }\n",
              "    "
            ]
          },
          "metadata": {}
        },
        {
          "output_type": "display_data",
          "data": {
            "text/plain": [
              "<Figure size 864x432 with 1 Axes>"
            ],
            "image/png": "[encoded data removed]"
          },
          "metadata": {
            "needs_background": "light"
          }
        }
      ],
      "source": [
        "fig, ax = plt.subplots(figsize=(12,6))\n",
        "plot_acf(data3, lags=20, ax=ax)\n",
        "plt.show()\n",
        "\n",
        "fig, ax = plt.subplots(figsize=(12,6))\n",
        "plot_pacf(data3, lags=20, ax=ax)\n",
        "plt.show()"
      ]
    },
    {
      "cell_type": "code",
      "execution_count": 70,
      "metadata": {
        "id": "bmOGJIMt8HkM"
      },
      "outputs": [],
      "source": [
        "from statsmodels.tsa.stattools import adfuller"
      ]
    },
    {
      "cell_type": "code",
      "execution_count": 71,
      "metadata": {
        "colab": {
          "base_uri": "https://localhost:8080/"
        },
        "id": "hPylyZH27y6f",
        "outputId": "44f7c4f5-8b45-455b-bed4-889f71fc7248"
      },
      "outputs": [
        {
          "output_type": "stream",
          "name": "stdout",
          "text": [
            "ADF Statistic: -6.227348024411038\n",
            "p-value: 5.0507802996828846e-08\n",
            "Critical Values:\n",
            "\t1%: -3.456\n",
            "\t5%: -2.873\n",
            "\t10%: -2.573\n"
          ]
        }
      ],
      "source": [
        "result = adfuller(data3['Daily Returns'])\n",
        "print('ADF Statistic:', result[0])\n",
        "print('p-value:', result[1])\n",
        "print('Critical Values:')\n",
        "for key, value in result[4].items():\n",
        "    print('\\t%s: %.3f' % (key, value))"
      ]
    },
    {
      "cell_type": "code",
      "source": [
        "n_train = int(len(data3) * 0.8)\n",
        "train_data = data3[:n_train]\n",
        "test_data = data3[n_train:]"
      ],
      "metadata": {
        "id": "X2tuovphv0Sf"
      },
      "execution_count": 72,
      "outputs": []
    },
    {
      "cell_type": "code",
      "execution_count": 73,
      "metadata": {
        "colab": {
          "base_uri": "https://localhost:8080/",
          "height": 423
        },
        "id": "v-A-4MG4Mcnx",
        "outputId": "b6dc182d-605e-40b3-9200-00762433b73a"
      },
      "outputs": [
        {
          "output_type": "execute_result",
          "data": {
            "text/plain": [
              "     Daily Returns\n",
              "0         0.001645\n",
              "1         0.036558\n",
              "2        -0.002372\n",
              "3        -0.021604\n",
              "4         0.006022\n",
              "..             ...\n",
              "209       0.006871\n",
              "210      -0.011107\n",
              "211       0.004330\n",
              "212      -0.007410\n",
              "213       0.019547\n",
              "\n",
              "[214 rows x 1 columns]"
            ],
            "text/html": [
              "\n",
              "  <div id=\"df-df2b0385-b907-4c84-ae30-eee5e847aade\">\n",
              "    <div class=\"colab-df-container\">\n",
              "      <div>\n",
              "<style scoped>\n",
              "    .dataframe tbody tr th:only-of-type {\n",
              "        vertical-align: middle;\n",
              "    }\n",
              "\n",
              "    .dataframe tbody tr th {\n",
              "        vertical-align: top;\n",
              "    }\n",
              "\n",
              "    .dataframe thead th {\n",
              "        text-align: right;\n",
              "    }\n",
              "</style>\n",
              "<table border=\"1\" class=\"dataframe\">\n",
              "  <thead>\n",
              "    <tr style=\"text-align: right;\">\n",
              "      <th></th>\n",
              "      <th>Daily Returns</th>\n",
              "    </tr>\n",
              "  </thead>\n",
              "  <tbody>\n",
              "    <tr>\n",
              "      <th>0</th>\n",
              "      <td>0.001645</td>\n",
              "    </tr>\n",
              "    <tr>\n",
              "      <th>1</th>\n",
              "      <td>0.036558</td>\n",
              "    </tr>\n",
              "    <tr>\n",
              "      <th>2</th>\n",
              "      <td>-0.002372</td>\n",
              "    </tr>\n",
              "    <tr>\n",
              "      <th>3</th>\n",
              "      <td>-0.021604</td>\n",
              "    </tr>\n",
              "    <tr>\n",
              "      <th>4</th>\n",
              "      <td>0.006022</td>\n",
              "    </tr>\n",
              "    <tr>\n",
              "      <th>...</th>\n",
              "      <td>...</td>\n",
              "    </tr>\n",
              "    <tr>\n",
              "      <th>209</th>\n",
              "      <td>0.006871</td>\n",
              "    </tr>\n",
              "    <tr>\n",
              "      <th>210</th>\n",
              "      <td>-0.011107</td>\n",
              "    </tr>\n",
              "    <tr>\n",
              "      <th>211</th>\n",
              "      <td>0.004330</td>\n",
              "    </tr>\n",
              "    <tr>\n",
              "      <th>212</th>\n",
              "      <td>-0.007410</td>\n",
              "    </tr>\n",
              "    <tr>\n",
              "      <th>213</th>\n",
              "      <td>0.019547</td>\n",
              "    </tr>\n",
              "  </tbody>\n",
              "</table>\n",
              "<p>214 rows × 1 columns</p>\n",
              "</div>\n",
              "      <button class=\"colab-df-convert\" onclick=\"convertToInteractive('df-df2b0385-b907-4c84-ae30-eee5e847aade')\"\n",
              "              title=\"Convert this dataframe to an interactive table.\"\n",
              "              style=\"display:none;\">\n",
              "        \n",
              "  <svg xmlns=\"http://www.w3.org/2000/svg\" height=\"24px\"viewBox=\"0 0 24 24\"\n",
              "       width=\"24px\">\n",
              "    <path d=\"M0 0h24v24H0V0z\" fill=\"none\"/>\n",
              "    <path d=\"M18.56 5.44l.94 2.06.94-2.06 2.06-.94-2.06-.94-.94-2.06-.94 2.06-2.06.94zm-11 1L8.5 8.5l.94-2.06 2.06-.94-2.06-.94L8.5 2.5l-.94 2.06-2.06.94zm10 10l.94 2.06.94-2.06 2.06-.94-2.06-.94-.94-2.06-.94 2.06-2.06.94z\"/><path d=\"M17.41 7.96l-1.37-1.37c-.4-.4-.92-.59-1.43-.59-.52 0-1.04.2-1.43.59L10.3 9.45l-7.72 7.72c-.78.78-.78 2.05 0 2.83L4 21.41c.39.39.9.59 1.41.59.51 0 1.02-.2 1.41-.59l7.78-7.78 2.81-2.81c.8-.78.8-2.07 0-2.86zM5.41 20L4 18.59l7.72-7.72 1.47 1.35L5.41 20z\"/>\n",
              "  </svg>\n",
              "      </button>\n",
              "      \n",
              "  <style>\n",
              "    .colab-df-container {\n",
              "      display:flex;\n",
              "      flex-wrap:wrap;\n",
              "      gap: 12px;\n",
              "    }\n",
              "\n",
              "    .colab-df-convert {\n",
              "      background-color: #E8F0FE;\n",
              "      border: none;\n",
              "      border-radius: 50%;\n",
              "      cursor: pointer;\n",
              "      display: none;\n",
              "      fill: #1967D2;\n",
              "      height: 32px;\n",
              "      padding: 0 0 0 0;\n",
              "      width: 32px;\n",
              "    }\n",
              "\n",
              "    .colab-df-convert:hover {\n",
              "      background-color: #E2EBFA;\n",
              "      box-shadow: 0px 1px 2px rgba(60, 64, 67, 0.3), 0px 1px 3px 1px rgba(60, 64, 67, 0.15);\n",
              "      fill: #174EA6;\n",
              "    }\n",
              "\n",
              "    [theme=dark] .colab-df-convert {\n",
              "      background-color: #3B4455;\n",
              "      fill: #D2E3FC;\n",
              "    }\n",
              "\n",
              "    [theme=dark] .colab-df-convert:hover {\n",
              "      background-color: #434B5C;\n",
              "      box-shadow: 0px 1px 3px 1px rgba(0, 0, 0, 0.15);\n",
              "      filter: drop-shadow(0px 1px 2px rgba(0, 0, 0, 0.3));\n",
              "      fill: #FFFFFF;\n",
              "    }\n",
              "  </style>\n",
              "\n",
              "      <script>\n",
              "        const buttonEl =\n",
              "          document.querySelector('#df-df2b0385-b907-4c84-ae30-eee5e847aade button.colab-df-convert');\n",
              "        buttonEl.style.display =\n",
              "          google.colab.kernel.accessAllowed ? 'block' : 'none';\n",
              "\n",
              "        async function convertToInteractive(key) {\n",
              "          const element = document.querySelector('#df-df2b0385-b907-4c84-ae30-eee5e847aade');\n",
              "          const dataTable =\n",
              "            await google.colab.kernel.invokeFunction('convertToInteractive',\n",
              "                                                     [key], {});\n",
              "          if (!dataTable) return;\n",
              "\n",
              "          const docLinkHtml = 'Like what you see? Visit the ' +\n",
              "            '<a target=\"_blank\" href=https://colab.research.google.com/notebooks/data_table.ipynb>data table notebook</a>'\n",
              "            + ' to learn more about interactive tables.';\n",
              "          element.innerHTML = '';\n",
              "          dataTable['output_type'] = 'display_data';\n",
              "          await google.colab.output.renderOutput(dataTable, element);\n",
              "          const docLink = document.createElement('div');\n",
              "          docLink.innerHTML = docLinkHtml;\n",
              "          element.appendChild(docLink);\n",
              "        }\n",
              "      </script>\n",
              "    </div>\n",
              "  </div>\n",
              "  "
            ]
          },
          "metadata": {},
          "execution_count": 73
        }
      ],
      "source": [
        "train_data"
      ]
    },
    {
      "cell_type": "code",
      "execution_count": 74,
      "metadata": {
        "colab": {
          "base_uri": "https://localhost:8080/"
        },
        "id": "OiVVktYlImX3",
        "outputId": "8d8b0f09-ff8c-4913-dabe-be66f4fd2195"
      },
      "outputs": [
        {
          "output_type": "stream",
          "name": "stdout",
          "text": [
            "Training data size: 214\n",
            "Test data size: 54\n"
          ]
        }
      ],
      "source": [
        "# Print the size of the training and test sets\n",
        "print('Training data size:', len(train_data))\n",
        "print('Test data size:', len(test_data))"
      ]
    },
    {
      "cell_type": "code",
      "execution_count": 75,
      "metadata": {
        "id": "5WPkGga5L5Yd"
      },
      "outputs": [],
      "source": [
        "from statsmodels.tsa.ar_model import AutoReg"
      ]
    },
    {
      "cell_type": "code",
      "execution_count": 76,
      "metadata": {
        "colab": {
          "base_uri": "https://localhost:8080/"
        },
        "id": "CKJWXYs4LCUh",
        "outputId": "a60a52bb-127d-49ee-c6c7-14cabefacbdb"
      },
      "outputs": [
        {
          "output_type": "stream",
          "name": "stderr",
          "text": [
            "/usr/local/lib/python3.8/dist-packages/statsmodels/tsa/ar_model.py:248: FutureWarning: The parameter names will change after 0.12 is released. Set old_names to False to use the new names now. Set old_names to True to use the old names. \n",
            "  warnings.warn(\n"
          ]
        }
      ],
      "source": [
        "# fit AR model on training data\n",
        "model = AutoReg(train_data, lags=5)\n",
        "model_fit = model.fit()"
      ]
    },
    {
      "cell_type": "code",
      "execution_count": 77,
      "metadata": {
        "id": "UXf0MveZLzc6"
      },
      "outputs": [],
      "source": [
        "# make predictions on testing data\n",
        "predictions = model_fit.predict(start=len(train_data), end=len(train_data)+len(test_data)-1, dynamic=False)"
      ]
    },
    {
      "cell_type": "code",
      "execution_count": 78,
      "metadata": {
        "colab": {
          "base_uri": "https://localhost:8080/",
          "height": 265
        },
        "id": "3wogcJ0KO37g",
        "outputId": "a714d6a2-5921-42f5-83ba-50b64f4304e9"
      },
      "outputs": [
        {
          "output_type": "display_data",
          "data": {
            "text/plain": [
              "<IPython.core.display.Javascript object>"
            ],
            "application/javascript": [
              "\n",
              "        if (window._pyforest_update_imports_cell) { window._pyforest_update_imports_cell('import matplotlib.pyplot as plt\\nimport pandas as pd'); }\n",
              "    "
            ]
          },
          "metadata": {}
        },
        {
          "output_type": "display_data",
          "data": {
            "text/plain": [
              "<IPython.core.display.Javascript object>"
            ],
            "application/javascript": [
              "\n",
              "        if (window._pyforest_update_imports_cell) { window._pyforest_update_imports_cell('import matplotlib.pyplot as plt\\nimport pandas as pd'); }\n",
              "    "
            ]
          },
          "metadata": {}
        },
        {
          "output_type": "display_data",
          "data": {
            "text/plain": [
              "<IPython.core.display.Javascript object>"
            ],
            "application/javascript": [
              "\n",
              "        if (window._pyforest_update_imports_cell) { window._pyforest_update_imports_cell('import matplotlib.pyplot as plt\\nimport pandas as pd'); }\n",
              "    "
            ]
          },
          "metadata": {}
        },
        {
          "output_type": "display_data",
          "data": {
            "text/plain": [
              "<Figure size 432x288 with 1 Axes>"
            ],
            "image/png": "[encoded data removed]"
          },
          "metadata": {
            "needs_background": "light"
          }
        }
      ],
      "source": [
        "# plot actual and predicted values\n",
        "plt.plot(test_data)\n",
        "plt.plot(predictions, color='red')\n",
        "plt.show()"
      ]
    },
    {
      "cell_type": "code",
      "execution_count": 79,
      "metadata": {
        "id": "yOoy5M30Vs8c"
      },
      "outputs": [],
      "source": [
        "from sklearn.metrics import mean_squared_error\n"
      ]
    },
    {
      "cell_type": "code",
      "execution_count": 81,
      "metadata": {
        "colab": {
          "base_uri": "https://localhost:8080/"
        },
        "id": "1wkdt2g_PCEs",
        "outputId": "41c0b972-30a1-4387-fb38-b7c5643da8b6"
      },
      "outputs": [
        {
          "output_type": "stream",
          "name": "stdout",
          "text": [
            "RMSE: 0.025317969288303058\n"
          ]
        }
      ],
      "source": [
        "mse = mean_squared_error(test_data, predictions)\n",
        "rmse = mse ** 0.5\n",
        "print('RMSE:', rmse)"
      ]
    },
    {
      "cell_type": "code",
      "execution_count": 82,
      "metadata": {
        "id": "jEfaic01Vlnw"
      },
      "outputs": [],
      "source": [
        "from statsmodels.tsa.arima.model import ARIMA"
      ]
    },
    {
      "cell_type": "code",
      "execution_count": 84,
      "metadata": {
        "id": "gTeKFaMNicq9"
      },
      "outputs": [],
      "source": [
        "# Create the MA model\n",
        "model = ARIMA(data3['Daily Returns'], order=(0, 0, 5))"
      ]
    },
    {
      "cell_type": "code",
      "execution_count": 85,
      "metadata": {
        "id": "ulDxFnv-ihX6"
      },
      "outputs": [],
      "source": [
        "# Fit the model to the data\n",
        "model_fit = model.fit()"
      ]
    },
    {
      "cell_type": "code",
      "execution_count": 86,
      "metadata": {
        "id": "mkK1Tm04i4XJ"
      },
      "outputs": [],
      "source": [
        "predictions = model_fit.predict(start=0, end=len(data)-1)"
      ]
    },
    {
      "cell_type": "code",
      "execution_count": 88,
      "metadata": {
        "colab": {
          "base_uri": "https://localhost:8080/",
          "height": 265
        },
        "id": "m1I6RQDOi-MN",
        "outputId": "7697f7bf-4a26-472a-e867-29b1e17e01b9"
      },
      "outputs": [
        {
          "output_type": "display_data",
          "data": {
            "text/plain": [
              "<IPython.core.display.Javascript object>"
            ],
            "application/javascript": [
              "\n",
              "        if (window._pyforest_update_imports_cell) { window._pyforest_update_imports_cell('import matplotlib.pyplot as plt\\nimport pandas as pd'); }\n",
              "    "
            ]
          },
          "metadata": {}
        },
        {
          "output_type": "display_data",
          "data": {
            "text/plain": [
              "<IPython.core.display.Javascript object>"
            ],
            "application/javascript": [
              "\n",
              "        if (window._pyforest_update_imports_cell) { window._pyforest_update_imports_cell('import matplotlib.pyplot as plt\\nimport pandas as pd'); }\n",
              "    "
            ]
          },
          "metadata": {}
        },
        {
          "output_type": "display_data",
          "data": {
            "text/plain": [
              "<IPython.core.display.Javascript object>"
            ],
            "application/javascript": [
              "\n",
              "        if (window._pyforest_update_imports_cell) { window._pyforest_update_imports_cell('import matplotlib.pyplot as plt\\nimport pandas as pd'); }\n",
              "    "
            ]
          },
          "metadata": {}
        },
        {
          "output_type": "display_data",
          "data": {
            "text/plain": [
              "<IPython.core.display.Javascript object>"
            ],
            "application/javascript": [
              "\n",
              "        if (window._pyforest_update_imports_cell) { window._pyforest_update_imports_cell('import matplotlib.pyplot as plt\\nimport pandas as pd'); }\n",
              "    "
            ]
          },
          "metadata": {}
        },
        {
          "output_type": "display_data",
          "data": {
            "text/plain": [
              "<Figure size 432x288 with 1 Axes>"
            ],
            "image/png": "[encoded data removed]"
          },
          "metadata": {
            "needs_background": "light"
          }
        }
      ],
      "source": [
        "# Plot the actual and predicted values\n",
        "plt.plot(data3['Daily Returns'], label='Actual')\n",
        "plt.plot(predictions, color='red', label='Predicted')\n",
        "plt.legend()\n",
        "plt.show()"
      ]
    }
  ],
  "metadata": {
    "colab": {
      "provenance": [],
      "authorship_tag": "ABX9TyOeV0GlbquQ4Ituj+k3/JUj",
      "include_colab_link": true
    },
    "kernelspec": {
      "display_name": "Python 3",
      "name": "python3"
    },
    "language_info": {
      "name": "python"
    }
  },
  "nbformat": 4,
  "nbformat_minor": 0
}